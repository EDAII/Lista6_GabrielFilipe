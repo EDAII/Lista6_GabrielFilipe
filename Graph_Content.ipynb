{
 "cells": [
  {
   "cell_type": "markdown",
   "metadata": {},
   "source": [
    "# Grafos"
   ]
  },
  {
   "cell_type": "markdown",
   "metadata": {},
   "source": [
    "![](img/t_graph.png)"
   ]
  },
  {
   "cell_type": "markdown",
   "metadata": {},
   "source": [
    "### Definições Gerais\n",
    "\n",
    "- É um modelo matemático que representa relações entre objetos utilizado na definição de problemas em diversas áreas. \n",
    "\n",
    "#### Em computação\n",
    "\n",
    "- É uma forma de solucionar problemas computáveis;\n",
    "- Buscam o desenvolvimento de algoritmos mais eficientes;\n",
    "\n",
    "#### Exemplos\n",
    "\n",
    "- Qual a melhor rota da minha casa até um restaurante ?\n",
    "- Duas pessoas tem algum amigo em comum ?  \n",
    "\n",
    "##### Não direcional X Direcional\n",
    "\n",
    "- **Não direcional: não** existe nenhuma orientação quanto ao sentido da aresta ;\n",
    "- **Direcional**: existe orientação quanto ao sentido da aresta ;\n",
    "\n",
    "<img src=\"img/grafo.png\" width=\"700\"/>\n",
    "\n",
    "##### Árvore X Grafo\n",
    "\n",
    "<img src=\"img/tree_vs_graph.png\" width=\"700\"/>\n"
   ]
  },
  {
   "cell_type": "markdown",
   "metadata": {},
   "source": [
    "### Definição\n",
    "\n",
    "- É definido como um conjunto de vértices e um conjunto de arestas que conectam qualquer par de vértices ;<br /><br />\n",
    "\n",
    "- **G = ( V , A )** :<br /><br />\n",
    " - V: conjunto de vértices (não vazio) ;\n",
    " - A: conjunto de arestas ;<br /><br />\n",
    " \n",
    "- Captura a relação entre os pares ;<br /><br />\n",
    "\n",
    "- **Parâmetros de tamanho** :<br /><br />\n",
    " - n = | V | = número de vértices ;\n",
    " - m = | A | = número de *pares* de arestas;\n",
    " \n",
    "<img src=\"img/param_graph.png\" width=\"300\"/>\n",
    " \n",
    "    V = { 1 , 2 , 3 , 4 , 5 , 6 , 7 , 8 } ;  \n",
    "    A = { 1 - 2 , 1 - 3 , 2 - 3 , 2 - 4 , 2 - 5 , 3 - 5 , 3 - 7 , 3 - 8 , 4 - 5 , 5 - 6 , 7 - 8 } ;  \n",
    "    n = 8 ;  \n",
    "    m = 11 ;  "
   ]
  },
  {
   "cell_type": "markdown",
   "metadata": {},
   "source": [
    "### Grafos Não Direcionais\n",
    "\n",
    "Considerando G = ( V , A ) :\n",
    "\n",
    "- Vizinhos ( adjacentes ) : quando você tem uma borda ligando 02 vértices ( análogos aos nós ) , exemplos :\n",
    "  - A ( 1 , 3 ) são adjacentes ( vizinhos ) ;\n",
    "  - A ( 2 , 8 ) não são adjacentes ( vizinhos ) ;<br /><br />\n",
    "- Grau de um vértice d ( u ): quantidade de vizinhos ( adjacentes ) que um vértice tem , exemplos :\n",
    "  - d ( 3 ) = 5 ; \n",
    "  - d ( 4 ) = 2 ;\n",
    "  \n",
    "**IMPORTANTE**\n",
    "\n",
    "Para **todo** grafo, a soma dos graus dos vértices ( Sum ( d ( u ) ) é igual ao dobro do número de arestas ;\n",
    "\n",
    "Neste caso :\n",
    "- m = 11 ;\n",
    "- Sum ( d ( u ) ) = 2 + 4 + 2 + 4 + 5 + 1 + 2 + 2 = 22 ;\n",
    "\n",
    "### Grafo Direcional ( digrafos )\n",
    "\n",
    "Para grafos direcionais, o grau de cada vértice é subdividido em :\n",
    "\n",
    "- Grau de entrada : arestas que chegam no vértice ;\n",
    "- Grau de saída : arestas que saem do vértice ;\n",
    "\n",
    "<img src=\"img/direct.png\" width=\"420\"/>\n"
   ]
  },
  {
   "cell_type": "markdown",
   "metadata": {},
   "source": [
    "### Aplicações diversas para grafos\n",
    "\n",
    "##### Cadeia alimentar\n",
    "\n",
    "<img src=\"img/cadeia.png\" width=\"400\"/>\n",
    "\n",
    "##### Rede social\n",
    "\n",
    "<img src=\"img/rede.png\" width=\"400\"/>"
   ]
  },
  {
   "cell_type": "markdown",
   "metadata": {},
   "source": [
    "## Representações de Grafo"
   ]
  },
  {
   "cell_type": "markdown",
   "metadata": {},
   "source": [
    "### Grafo Trivial\n",
    "\n",
    "- Único vértice;\n",
    "- Sem arestas;\n",
    "\n",
    "<img src=\"img/node.png\" width=\"100\"/>\n"
   ]
  },
  {
   "cell_type": "markdown",
   "metadata": {},
   "source": [
    "### Grafo Simples\n",
    "\n",
    "- Não direcionado;\n",
    "- Sem laços;\n",
    "- Sem arestas paralelas;\n",
    "\n",
    "<img src=\"img/sim.png\" width=\"300\"/>\n"
   ]
  },
  {
   "cell_type": "markdown",
   "metadata": {},
   "source": [
    "### Grafo Completo\n",
    "\n",
    "- Grafo simples;\n",
    "- Todos os vértices se conectam entre si;\n",
    "\n",
    "<img src=\"img/comp.png\" width=\"300\"/>\n"
   ]
  },
  {
   "cell_type": "markdown",
   "metadata": {},
   "source": [
    "### Grafo Regular\n",
    "\n",
    "- Todos os vértices possuem um mesmo número de ligações (arestas);\n",
    "\n",
    "<img src=\"img/reg.png\" width=\"300\"/>\n"
   ]
  },
  {
   "cell_type": "markdown",
   "metadata": {},
   "source": [
    "### Matriz Adjacente\n",
    "\n",
    "É possível representar um grafo por meio de uma matriz adjacente, ou seja , em um espaço n².<br /><br />  \n",
    "Para isso, devemos considerar que:\n",
    "- Uma matrix **A ( v , u ) , n x n , é 1 se  v é vizinho u**.\n",
    "\n",
    "<img src=\"img/matrix.png\" width=\"700\"/>\n",
    "\n",
    "- Para checar se ( v , u ) são vizinho a complexidade é **O (1)** .<br /><br />\n",
    "- Para checar toda a \"vizinhança\" a complexidade é **O (n²)** .\n",
    "\n",
    "#### Grafo Linear\n",
    "\n",
    "- O grafo é linear quando a matrix adjacente é composta somente por zeros."
   ]
  },
  {
   "cell_type": "markdown",
   "metadata": {},
   "source": [
    "### Lista Adjacente\n",
    "\n",
    "Também é possível representar um grafo por meio de uma lista adjacente, ou seja , uma lista encadeada de nós e seus vizinhos .<br />    \n",
    "Para isso, devemos considerar que:\n",
    "\n",
    "<img src=\"img/list.png\" width=\"700\"/>\n",
    "\n",
    "\n",
    "- Para checar se ( v , u ) são vizinho a complexidade é **O ( d ( u ) )** .<br /><br />\n",
    "- Para checar toda a \"vizinhança\" a complexidade é **O ( m + n )** ."
   ]
  },
  {
   "cell_type": "markdown",
   "metadata": {},
   "source": [
    "## Laço\n",
    "\n",
    " - Uma aresta é chamada de laço quando ser vértice de partida é o mesmo vértice de chegada, **A ( v , v )** .<br /><br />\n",
    "Na imagem a seguir é mostrado um exemplo de laço no vértice 1.\n",
    "\n",
    "<img src=\"img/laco.png\" width=\"300\"/>\n"
   ]
  },
  {
   "cell_type": "markdown",
   "metadata": {},
   "source": [
    "## Caminho\n",
    "\n",
    "- **Caminho** é uma sequência de vértices de modo que existe sempre uma aresta ligando o vértice anterior com o seguinte.<br /><br />\n",
    " - Caminho **simples**: nenhum dos vértices do caminho se repete.\n",
    " - **Comprimento** do caminho: é o número de arestas passadas pelo caminho.\n",
    " \n",
    "<img src=\"img/path.png\" width=\"300\"/>\n",
    "\n"
   ]
  },
  {
   "cell_type": "markdown",
   "metadata": {},
   "source": [
    "## Conexão\n",
    "\n",
    "- Um grafo **não direcional** é conectado (conexo) quando existir um caminho entre qualquer par de vértices. \n",
    "\n",
    "<img src=\"img/conex1.png\" width=\"400\"/>\n",
    "<img src=\"img/conex2.png\" width=\"400\"/>"
   ]
  },
  {
   "cell_type": "markdown",
   "metadata": {},
   "source": [
    "## Ciclo\n",
    "\n",
    "- Um **ciclo** é um caminho que começa e termina no mesmo vértice;\n",
    "- Um laço é um cliclo de comprimento 1;\n",
    "\n",
    "#### Ciclo simples\n",
    "\n",
    "- Um ciclo é **simples** se não tem vértices repetidos exceto pelo último (que coincide com o primeiro).\n",
    "\n",
    "<img src=\"img/graph2.png\" width=\"300\"/>\n",
    "\n",
    "#### Ciclos da figura\n",
    "\n",
    "- 5-7-5 ( comprimento 2 (válido somente para grafos **direcionais**) e simples )\n",
    "- 4-7-5-4 ( comprimento 3 e simples )\n",
    "- 6-2-7-3-6 ( comprimento 4 e simples )\n",
    "- 5-4-7-3-6-2-7-5 ( comprimento 7 e **não** simples )\n"
   ]
  },
  {
   "cell_type": "markdown",
   "metadata": {},
   "source": [
    "## Comprimento ou distância\n",
    "\n",
    "- O comprimento (ou distância) entre 2 vértices, é a quantidade de arestas atravessadas pelo caminho **mais curto** até o nó de destino.\n",
    "\n",
    "<img src=\"img/distance.png\" width=\"300\"/>\n"
   ]
  },
  {
   "cell_type": "markdown",
   "metadata": {},
   "source": [
    "### Grafo Bidirecional\n",
    "\n",
    "- É um grafo cujos vértices podem ser divididos em dois conjuntos. Neste caso, as arestas **ligam** os vértices que estão em **conjuntos diferentes**, nunca ligando vértices do mesmo.\n",
    "\n",
    "<img src=\"img/bi2.png\" width=\"300\"/>"
   ]
  },
  {
   "cell_type": "markdown",
   "metadata": {},
   "source": [
    "## Árvore\n",
    "\n",
    "- Um grafo **não direcional** é uma árvore se:<br /><br />\n",
    "  - Não conter um ciclo;\n",
    "  - É conexo (conectado);\n",
    "  - A quantidade de arestas for igual ao número de vértices - 1;\n",
    "\n",
    "<img src=\"img/tree.png\" width=\"500\"/>\n",
    "\n",
    "### Raíz de uma árvore\n",
    "\n",
    "- Não á uma raiz pré-definida neste caso. Basta você escolher o vértice que será o nó raiz e organizar a árvore de acordo com sua escolha e de maneira hierarquica.\n",
    "\n",
    "No exemplo abaixo, foi escolhido o vértice **1** como raiz.\n",
    "\n",
    "<img src=\"img/root.png\" width=\"700\"/>\n"
   ]
  },
  {
   "cell_type": "markdown",
   "metadata": {},
   "source": [
    "## Travessia\n",
    "\n",
    "#### Reflexão:\n",
    "\n",
    "- Dado dois vértices v e u, há uma conexão entre eles?\n",
    "- Dado dois vértices v e u, qual o grau do caminho mais curto entre eles?"
   ]
  },
  {
   "cell_type": "markdown",
   "metadata": {},
   "source": [
    "### IMPORTANTE\n",
    "\n",
    "- Toda busca dependerá do meu vértice inicial (raiz);\n",
    "\n",
    "### Principais tipos de busca\n",
    "\n",
    "- Busca em profundidade;\n",
    "- Busca em largura;\n",
    "- Busca pelo menor caminho;"
   ]
  },
  {
   "cell_type": "markdown",
   "metadata": {},
   "source": [
    "### Busca em profundidade (DFS)\n",
    "\n",
    "Na busca em profundidade, parte-se do vértice inicial (raiz) explorando o máximo de cada um de seus ramos antes de retroceder (\"backracking\"). Pode ser usada para:\n",
    "\n",
    "- Encontrar componentes conectados e fortemente conectados;\n",
    "- Ordenação topológica de um grafo;\n",
    "- Resolver problemas de quebra-cabeça (ex.: labirinto);"
   ]
  },
  {
   "cell_type": "markdown",
   "metadata": {},
   "source": [
    "#### Complexidade de tempo\n",
    "\n",
    "- O ( V + A )<br /><br />\n",
    " - V = vértices\n",
    " - A = arestas"
   ]
  },
  {
   "cell_type": "markdown",
   "metadata": {},
   "source": [
    "#### Algoritmo\n",
    "\n",
    "<img src=\"img/df1.png\" width=\"300\"/>\n",
    "<img src=\"img/df2.png\" width=\"300\"/>\n",
    "<img src=\"img/df3.png\" width=\"300\"/>\n",
    "<img src=\"img/df4.png\" width=\"300\"/>\n",
    "<img src=\"img/df5.png\" width=\"300\"/>\n",
    "<img src=\"img/df6.png\" width=\"300\"/>\n",
    "<img src=\"img/df7.png\" width=\"300\"/>\n",
    "<img src=\"img/df8.png\" width=\"300\"/>\n",
    "\n"
   ]
  },
  {
   "cell_type": "markdown",
   "metadata": {},
   "source": [
    "#### Método para grafos conectados\n",
    "\n",
    "- Grafo direcionado usando a representação de lista adjacente"
   ]
  },
  {
   "cell_type": "code",
   "execution_count": null,
   "metadata": {},
   "outputs": [],
   "source": [
    "# Método de busca em profundidade.\n",
    "# Utiliza o método DFSUtil recursivamente\n",
    "def DFS(self,v): \n",
    "\n",
    "    # Marca todos os vértices como NÃO vizitados \n",
    "    visited = [False]*(len(self.graph)) \n",
    "\n",
    "    # Chama o método DFSUtil recursivamente para printar a busca em profundidade.\n",
    "    self.DFSUtil(v,visited)"
   ]
  },
  {
   "cell_type": "markdown",
   "metadata": {},
   "source": [
    "#### CÓDIGO COMPLETO"
   ]
  },
  {
   "cell_type": "code",
   "execution_count": null,
   "metadata": {},
   "outputs": [],
   "source": [
    "from collections import defaultdict \n",
    "\n",
    "# Classe que representa um grafo direcionado usando lista adjacente.\n",
    "class Graph: \n",
    "  \n",
    "    # Método construtor \n",
    "    def __init__(self): \n",
    "  \n",
    "        # Dicionário default para armazenamento do grafo. \n",
    "        self.graph = defaultdict(list) \n",
    "  \n",
    "    # Método de adição de arestas \n",
    "    def addEdge(self,u,v): \n",
    "        self.graph[u].append(v) \n",
    "                \n",
    "    # Método de busca em profundidade.\n",
    "    # Utiliza o método DFSUtil recursivamente\n",
    "    def DFS(self,v): \n",
    "  \n",
    "        # Marca todos os vértices como NÃO vizitados \n",
    "        visited = [False]*(len(self.graph)) \n",
    "  \n",
    "        # Chama o método DFSUtil recursivamente para printar a busca em profundidade.\n",
    "        self.DFSUtil(v,visited)             \n",
    "                \n",
    "    \n",
    "                \n",
    "    # Método auxiliar para a busca em profundidade \n",
    "    def DFSUtil(self, v, visited): \n",
    "\n",
    "        # Marca o nó atual como visitado e o printa\n",
    "        visited[v]= True\n",
    "        print(v) \n",
    "  \n",
    "        # Faz a recurssão para todos os vértices vizinhos do vértice atual.\n",
    "        for i in self.graph[v]: \n",
    "            if visited[i] == False: \n",
    "                self.DFSUtil(i, visited) \n",
    "        \n",
    "    \n",
    "# Criação do grafo\n",
    "\n",
    "g = Graph() \n",
    "g.addEdge(0, 1) \n",
    "g.addEdge(0, 2) \n",
    "g.addEdge(1, 2) \n",
    "g.addEdge(2, 0) \n",
    "g.addEdge(2, 3) \n",
    "g.addEdge(3, 3) \n",
    "  \n",
    "print (\"Busca em profundidade: \\n\")\n",
    "\n",
    "\n",
    "g.DFS(2) "
   ]
  },
  {
   "cell_type": "markdown",
   "metadata": {},
   "source": [
    "#### Método para grafos desconectados\n",
    "\n",
    "- Grafo direcionado usando a representação de lista adjacente"
   ]
  },
  {
   "cell_type": "code",
   "execution_count": null,
   "metadata": {},
   "outputs": [],
   "source": [
    "# Método de busca em profundidade.\n",
    "# Utiliza o método DFSUtil recursivamente \n",
    "def DFS(self,v): \n",
    "\n",
    "    #Total de vértices \n",
    "    V = len(self.graph)\n",
    "\n",
    "    #O controle boolean deve ser feito para que a busca não seja um loop infinito.\n",
    "\n",
    "    # Marca todos os vértices como NÃO vizitados \n",
    "    visited =[False]*(V) \n",
    "\n",
    "    # Chama o método DFSUtil recursivamente para printar a busca em profundidade\n",
    "    # passando por todos os vértices um por um. \n",
    "    for i in range(V): \n",
    "        if visited[i] == False: \n",
    "            self.DFSUtil(i, visited) "
   ]
  },
  {
   "cell_type": "markdown",
   "metadata": {},
   "source": [
    "#### CÓDIGO COMPLETO"
   ]
  },
  {
   "cell_type": "code",
   "execution_count": null,
   "metadata": {},
   "outputs": [],
   "source": [
    "from collections import defaultdict \n",
    "import time \n",
    "\n",
    "# Classe que representa um grafo direcionado usando lista adjacente.\n",
    "class Graph: \n",
    "  \n",
    "    # Método construtor \n",
    "    def __init__(self): \n",
    "  \n",
    "        # Dicionário default para armazenamento do grafo. \n",
    "        self.graph = defaultdict(list) \n",
    "  \n",
    "    # Método de adição de arestas \n",
    "    def addEdge(self,u,v): \n",
    "        self.graph[u].append(v) \n",
    "      \n",
    "    # Método auxiliar para a busca em profundidade \n",
    "    def DFSUtil(self, v, visited): \n",
    "\n",
    "        # Marca o nó atual como visitado e o printa\n",
    "        visited[v]= True\n",
    "        print(v) \n",
    "  \n",
    "        # Faz a recurssão para todos os vértices vizinhos do vértice atual.\n",
    "        for i in self.graph[v]: \n",
    "            if visited[i] == False: \n",
    "                self.DFSUtil(i, visited) \n",
    "                \n",
    "    # Método de busca em profundidade.\n",
    "    # Utiliza o método DFSUtil recursivamente \n",
    "    def DFS(self,v): \n",
    "        \n",
    "        #Total de vértices \n",
    "        V = len(self.graph)  \n",
    "\n",
    "        #O controle boolean deve ser feito para que a busca não seja um loop infinito.\n",
    "\n",
    "        # Marca todos os vértices como NÃO vizitados \n",
    "        visited =[False]*(V) \n",
    "  \n",
    "        # Chama o método DFSUtil recursivamente para printar a busca em profundidade\n",
    "        # passando por todos os vértices um por um. \n",
    "        for i in range(V): \n",
    "            if visited[i] == False: \n",
    "                self.DFSUtil(i, visited)\n",
    "                \n",
    "# Criação do grafo\n",
    "\n",
    "g = Graph() \n",
    "g.addEdge(0, 1) \n",
    "g.addEdge(0, 2) \n",
    "g.addEdge(1, 2) \n",
    "g.addEdge(2, 0) \n",
    "g.addEdge(2, 3) \n",
    "g.addEdge(3, 3) \n",
    "  \n",
    "print (\"Busca em profundidade: \\n\")\n",
    "\n",
    "start3 = time.time()\n",
    "g.DFS(2)\n",
    "end3 = time.time()"
   ]
  },
  {
   "cell_type": "markdown",
   "metadata": {},
   "source": [
    "#### Diferença entre os 2 códigos:\n",
    "\n",
    "- Passa por todos os vértices um por um;\n",
    "- Antes da chamada do DFSUtil, deve-se checar se o vértice já foi printado por uma chamada anterior;"
   ]
  },
  {
   "cell_type": "code",
   "execution_count": null,
   "metadata": {},
   "outputs": [],
   "source": [
    "for i in range(V): \n",
    "    if visited[i] == False: \n",
    "        self.DFSUtil(i, visited) "
   ]
  },
  {
   "cell_type": "markdown",
   "metadata": {},
   "source": [
    "#### Outros exemplos"
   ]
  },
  {
   "cell_type": "markdown",
   "metadata": {},
   "source": [
    "##### Novo grafo - usando string\n",
    "\n",
    "<img src=\"img/g2.png\" width=\"300\"/>"
   ]
  },
  {
   "cell_type": "code",
   "execution_count": null,
   "metadata": {},
   "outputs": [],
   "source": [
    "graph = {'A': set(['B', 'C']),\n",
    "         'B': set(['A', 'D', 'E']),\n",
    "         'C': set(['A', 'F']),\n",
    "         'D': set(['B']),\n",
    "         'E': set(['B', 'F']),\n",
    "         'F': set(['C', 'E'])}"
   ]
  },
  {
   "cell_type": "code",
   "execution_count": null,
   "metadata": {},
   "outputs": [],
   "source": [
    "def dfs_paths(graph, start, goal):\n",
    "    stack = [(start, [start])]\n",
    "    while stack:\n",
    "        (vertex, path) = stack.pop()\n",
    "        for next in graph[vertex] - set(path):\n",
    "            if next == goal:\n",
    "                yield path + [next]\n",
    "            else:\n",
    "                stack.append((next, path + [next]))\n",
    "\n",
    "list(dfs_paths(graph, 'A', 'F'))"
   ]
  },
  {
   "cell_type": "markdown",
   "metadata": {},
   "source": [
    "### Busca em largura (BFS)\n",
    "\n",
    "Na busca em largura, parte-se do vértice inicial (raiz) e explora-se todos os seus vizinhos. Recursivamente, isso será feito para os vizinhos dos vizinhos. Pode ser usada para: \n",
    "\n",
    "- Achar componentes conectados;\n",
    "- Achar vértices conectados a apenas 1 componente;\n",
    "- Achar caminho mais curto entre dois vértices;\n",
    "- Testar **bipartição em grafos**;\n",
    "- O vértice u é um parente de v se v é o primeiro visitado quando for feita a busca em largura em u;"
   ]
  },
  {
   "cell_type": "markdown",
   "metadata": {},
   "source": [
    "#### Complexidade de tempo\n",
    "\n",
    "- O ( V + A )<br /><br />\n",
    " - V = vértices\n",
    " - A = arestas"
   ]
  },
  {
   "cell_type": "markdown",
   "metadata": {},
   "source": [
    "#### Algoritmo"
   ]
  },
  {
   "cell_type": "markdown",
   "metadata": {},
   "source": [
    "<img src=\"img/bf1.png\" width=\"300\"/>\n",
    "<img src=\"img/bf2.png\" width=\"300\"/>\n",
    "<img src=\"img/bf3.png\" width=\"300\"/>\n",
    "<img src=\"img/bf4.png\" width=\"300\"/>\n",
    "<img src=\"img/bf5.png\" width=\"300\"/>\n",
    "<img src=\"img/bf6.png\" width=\"300\"/>\n",
    "<img src=\"img/bf7.png\" width=\"300\"/>\n",
    "<img src=\"img/bf8.png\" width=\"300\"/>\n",
    "<img src=\"img/bf9.png\" width=\"300\"/>\n",
    "<img src=\"img/bf10.png\" width=\"300\"/>\n",
    "<img src=\"img/bf11.png\" width=\"300\"/>"
   ]
  },
  {
   "cell_type": "markdown",
   "metadata": {},
   "source": [
    "#### Método para grafos conectados\n",
    "\n",
    "- Grafo direcionado usando a representação de lista adjacente"
   ]
  },
  {
   "cell_type": "code",
   "execution_count": null,
   "metadata": {},
   "outputs": [],
   "source": [
    "#Busca em largura para um determinado vértice.\n",
    "\n",
    "from collections import defaultdict # armazenamento de dados\n",
    "import time \n",
    "  \n",
    "# Classe que representa um grafo direcionado usando lista adjacente.\n",
    "class Graph: \n",
    "  \n",
    "    # Método construtor \n",
    "    def __init__(self): \n",
    "        \n",
    "        # Dicionário default para armazenamento do grafo.\n",
    "        self.graph = defaultdict(list) \n",
    "\n",
    "    # Método de adição de arestas\n",
    "    def addEdge(self,u,v): \n",
    "        self.graph[u].append(v) \n",
    "\n",
    "    # Método para busca em largura\n",
    "    def BFS(self, s): \n",
    "\n",
    "        #O controle boolean deve ser feito para que a busca não seja um loop infinito.\n",
    "        \n",
    "        # Marca todos os vértices como NÃO vizitados \n",
    "        visited = [False] * (len(self.graph)) \n",
    "\n",
    "        # Cria uma fila para a busca em largura \n",
    "        queue = [] \n",
    "\n",
    "        # Coloca o nó atual na fila e marca ele como visitado        \n",
    "        queue.append(s) \n",
    "        visited[s] = True\n",
    "\n",
    "        while queue: \n",
    "\n",
    "            # Remove o vértice da fila e o printa\n",
    "            \n",
    "            s = queue.pop(0) \n",
    "            print (s, end = \" \") \n",
    "\n",
    "            # Pega todos os vértices vizinhos do vértice retirado.\n",
    "            # Se o vértice vizinho não tiver sido visitado então marque ele como vizitado \n",
    "            # e enfilere-o.\n",
    "            \n",
    "            for i in self.graph[s]: \n",
    "                if visited[i] == False: \n",
    "                    queue.append(i) \n",
    "                    visited[i] = True\n",
    "  \n",
    "\n",
    "  \n",
    "# Criação do grafo\n",
    "\n",
    "g = Graph() \n",
    "g.addEdge(0, 1) \n",
    "g.addEdge(0, 2) \n",
    "g.addEdge(1, 2) \n",
    "g.addEdge(2, 0) \n",
    "g.addEdge(2, 3) \n",
    "g.addEdge(3, 3) \n",
    "  \n",
    "print (\"Busca em largura: \\n\")\n",
    "\n",
    "start4 = time.time()\n",
    "g.BFS(2)\n",
    "end4 = time.time()"
   ]
  },
  {
   "cell_type": "markdown",
   "metadata": {},
   "source": [
    "#### Outros exemplos"
   ]
  },
  {
   "cell_type": "markdown",
   "metadata": {},
   "source": [
    "##### Novo grafo - usando string\n",
    "\n",
    "<img src=\"img/g2.png\" width=\"300\"/>"
   ]
  },
  {
   "cell_type": "code",
   "execution_count": null,
   "metadata": {},
   "outputs": [],
   "source": [
    "graph = {'A': set(['B', 'C']),\n",
    "         'B': set(['A', 'D', 'E']),\n",
    "         'C': set(['A', 'F']),\n",
    "         'D': set(['B']),\n",
    "         'E': set(['B', 'F']),\n",
    "         'F': set(['C', 'E'])}"
   ]
  },
  {
   "cell_type": "code",
   "execution_count": null,
   "metadata": {},
   "outputs": [],
   "source": [
    "def bfs_paths(graph, start, goal):\n",
    "    queue = [(start, [start])]\n",
    "    while queue:\n",
    "        (vertex, path) = queue.pop(0)\n",
    "        for next in graph[vertex] - set(path):\n",
    "            if next == goal:\n",
    "                yield path + [next]\n",
    "            else:\n",
    "                queue.append((next, path + [next]))\n",
    "\n",
    "list(bfs_paths(graph, 'A', 'F'))"
   ]
  },
  {
   "cell_type": "markdown",
   "metadata": {},
   "source": [
    "#### Busca pelo menor caminho\n",
    "\n",
    "Na busca em largura, parte-se do vértice inicial (raiz) e calcula-se a distância deste vértice com todos os demais (desde que exista um caminho entre eles);"
   ]
  },
  {
   "cell_type": "code",
   "execution_count": null,
   "metadata": {},
   "outputs": [],
   "source": [
    "def shortest_path(graph, start, goal):\n",
    "    try:\n",
    "        return next(bfs_paths(graph, start, goal))\n",
    "    except StopIteration:\n",
    "        return None\n",
    "\n",
    "shortest_path(graph, 'A', 'F')"
   ]
  },
  {
   "cell_type": "markdown",
   "metadata": {},
   "source": [
    "## Benchmark - Análise de tempo em complexidade"
   ]
  },
  {
   "cell_type": "markdown",
   "metadata": {},
   "source": [
    "#### Bibiliotecas"
   ]
  },
  {
   "cell_type": "code",
   "execution_count": null,
   "metadata": {},
   "outputs": [],
   "source": [
    "import time \n",
    "import matplotlib.pyplot as plt\n",
    "import numpy as np\n",
    "import seaborn as sns\n",
    "from matplotlib.pyplot import figure"
   ]
  },
  {
   "cell_type": "code",
   "execution_count": null,
   "metadata": {},
   "outputs": [],
   "source": [
    "start1 = time.time()\n",
    "list(bfs_paths(graph, 'A', 'F'))\n",
    "end1 = time.time()\n",
    "\n",
    "start2 = time.time()\n",
    "list(dfs_paths(graph, 'A', 'F'))\n",
    "end2 = time.time()"
   ]
  },
  {
   "cell_type": "code",
   "execution_count": null,
   "metadata": {},
   "outputs": [],
   "source": [
    "t1 = end1 - start1\n",
    "t2 = end2 - start2\n",
    "\n",
    "tzao1 = [t1,t2]\n",
    "label = ['BFS', 'DFS']"
   ]
  },
  {
   "cell_type": "code",
   "execution_count": null,
   "metadata": {},
   "outputs": [],
   "source": [
    "def plot_bar_x():\n",
    "    index = np.arange(len(label))\n",
    "    plt.bar(index, tzao1)\n",
    "    plt.ylabel('Tempo', fontsize=10)\n",
    "    plt.xticks(index, label, fontsize=10)\n",
    "    plt.title('Tempo de Execução')\n",
    "    plt.show()\n",
    "    \n",
    "plot_bar_x()"
   ]
  },
  {
   "cell_type": "code",
   "execution_count": null,
   "metadata": {},
   "outputs": [],
   "source": [
    "t4 = end4 - start4\n",
    "t3 = end3 - start3\n",
    "\n",
    "tzao2 = [t4,t3]\n",
    "label = ['BFS', 'DFS']"
   ]
  },
  {
   "cell_type": "code",
   "execution_count": null,
   "metadata": {},
   "outputs": [],
   "source": [
    "def plot_bar_x():\n",
    "    index = np.arange(len(label))\n",
    "    plt.bar(index, tzao2,color='r')\n",
    "    plt.ylabel('Tempo', fontsize=10)\n",
    "    plt.xticks(index, label, fontsize=10)\n",
    "    plt.title('Tempo de Execução')\n",
    "    plt.show()\n",
    "    \n",
    "plot_bar_x()"
   ]
  }
 ],
 "metadata": {
  "kernelspec": {
   "display_name": "Python 3",
   "language": "python",
   "name": "python3"
  },
  "language_info": {
   "codemirror_mode": {
    "name": "ipython",
    "version": 3
   },
   "file_extension": ".py",
   "mimetype": "text/x-python",
   "name": "python",
   "nbconvert_exporter": "python",
   "pygments_lexer": "ipython3",
   "version": "3.7.3"
  }
 },
 "nbformat": 4,
 "nbformat_minor": 2
}
