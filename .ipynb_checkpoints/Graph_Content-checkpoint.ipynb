{
 "cells": [
  {
   "cell_type": "markdown",
   "metadata": {},
   "source": [
    "# Grafos"
   ]
  },
  {
   "cell_type": "markdown",
   "metadata": {},
   "source": [
    "![](img/t_graph.png)"
   ]
  },
  {
   "cell_type": "markdown",
   "metadata": {},
   "source": [
    "### Definições Gerais\n",
    "\n",
    "- É um modelo matemático que representa relações entre objetos utilizado na definição de problemas em diversas áreas. \n",
    "\n",
    "#### Em computação\n",
    "\n",
    "- É uma forma de solucionar problemas computáveis;\n",
    "- Buscam o desenvolvimento de algoritmos mais eficientes;\n",
    "\n",
    "#### Exemplos\n",
    "\n",
    "- Qual a melhor rota da minha casa até um restaurante ?\n",
    "- Duas pessoas tem algum amigo em comum ?  \n",
    "\n",
    "##### Não direcional X Direcional\n",
    "\n",
    "- **Não direcional: não** existe nenhuma orientação quanto ao sentido da aresta ;\n",
    "- **Direcional**: existe orientação quanto ao sentido da aresta ;\n",
    "\n",
    "<img src=\"img/grafo.png\" width=\"700\"/>\n",
    "\n",
    "##### Árvore X Grafo\n",
    "\n",
    "<img src=\"img/tree_vs_graph.png\" width=\"700\"/>\n"
   ]
  },
  {
   "cell_type": "markdown",
   "metadata": {},
   "source": [
    "### Definição\n",
    "\n",
    "- É definido como um conjunto de vértices e um conjunto de arestas que conectam qualquer par de vértices ;<br /><br />\n",
    "\n",
    "- **G = ( V , A )** :<br /><br />\n",
    " - V: conjunto de vértices (não vazio) ;\n",
    " - A: conjunto de arestas ;<br /><br />\n",
    " \n",
    "- Captura a relação entre os pares ;<br /><br />\n",
    "\n",
    "- **Parâmetros de tamanho** :<br /><br />\n",
    " - n = | V | = número de vértices ;\n",
    " - m = | A | = número de *pares* de arestas;\n",
    " \n",
    "<img src=\"img/param_graph.png\" width=\"300\"/>\n",
    " \n",
    "    V = { 1 , 2 , 3 , 4 , 5 , 6 , 7 , 8 } ;  \n",
    "    A = { 1 - 2 , 1 - 3 , 2 - 3 , 2 - 4 , 2 - 5 , 3 - 5 , 3 - 7 , 3 - 8 , 4 - 5 , 5 - 6 , 7 - 8 } ;  \n",
    "    n = 8 ;  \n",
    "    m = 11 ;  "
   ]
  },
  {
   "cell_type": "markdown",
   "metadata": {},
   "source": [
    "### Grafos Não Direcionais\n",
    "\n",
    "Considerando G = ( V , A ) :\n",
    "\n",
    "- Vizinhos ( adjacentes ) : quando você tem uma borda ligando 02 vértices ( análogos aos nós ) , exemplos :\n",
    "  - A ( 1 , 3 ) são adjacentes ( vizinhos ) ;\n",
    "  - A ( 2 , 8 ) não são adjacentes ( vizinhos ) ;<br /><br />\n",
    "- Grau de um vértice d ( u ): quantidade de vizinhos ( adjacentes ) que um vértice tem , exemplos :\n",
    "  - d ( 3 ) = 5 ; \n",
    "  - d ( 4 ) = 2 ;\n",
    "  \n",
    "**IMPORTANTE**\n",
    "\n",
    "Para **todo** grafo, a soma dos graus dos vértices ( Sum ( d ( u ) ) é igual ao dobro do número de arestas ;\n",
    "\n",
    "Neste caso :\n",
    "- m = 11 ;\n",
    "- Sum ( d ( u ) ) = 2 + 4 + 2 + 4 + 5 + 1 + 2 + 2 = 22 ;\n",
    "\n",
    "### Grafo Direcional ( digrafos )\n",
    "\n",
    "Para grafos direcionais, o grau de cada vértice é subdividido em :\n",
    "\n",
    "- Grau de entrada : arestas que chegam no vértice ;\n",
    "- Grau de saída : arestas que saem do vértice ;\n",
    "\n",
    "<img src=\"img/direct.png\" width=\"420\"/>\n"
   ]
  },
  {
   "cell_type": "markdown",
   "metadata": {},
   "source": [
    "### Aplicações diversas para grafos\n",
    "\n",
    "##### Cadeia alimentar\n",
    "\n",
    "<img src=\"img/cadeia.png\" width=\"400\"/>\n",
    "\n",
    "##### Rede social\n",
    "\n",
    "<img src=\"img/rede.png\" width=\"400\"/>"
   ]
  },
  {
   "cell_type": "markdown",
   "metadata": {},
   "source": [
    "## Representações de Grafo"
   ]
  },
  {
   "cell_type": "markdown",
   "metadata": {},
   "source": [
    "### Matriz Adjacente\n",
    "\n",
    "É possível representar um grafo por meio de uma matriz adjacente, ou seja , em um espaço n².<br /><br />  \n",
    "Para isso, devemos considerar que:\n",
    "- Uma matrix **A ( v , u ) , n x n , é 1 se  v é vizinho u**.\n",
    "\n",
    "<img src=\"img/matrix.png\" width=\"700\"/>\n",
    "\n",
    "- Para checar se ( v , u ) são vizinho a complexidade é **O (1)** .<br /><br />\n",
    "- Para checar toda a \"vizinhança\" a complexidade é **O (n²)** .\n",
    "\n",
    "#### Grafo Linear\n",
    "\n",
    "- O grafo é linear quando a matrix adjacente é composta somente por zeros."
   ]
  },
  {
   "cell_type": "markdown",
   "metadata": {},
   "source": [
    "### Lista Adjacente\n",
    "\n",
    "Também é possível representar um grafo por meio de uma lista adjacente, ou seja , uma lista encadeada de nós e seus vizinhos .<br />    \n",
    "Para isso, devemos considerar que:\n",
    "\n",
    "<img src=\"img/list.png\" width=\"700\"/>\n",
    "\n",
    "\n",
    "- Para checar se ( v , u ) são vizinho a complexidade é **O ( d ( u ) )** .<br /><br />\n",
    "- Para checar toda a \"vizinhança\" a complexidade é **O ( m + n )** ."
   ]
  },
  {
   "cell_type": "markdown",
   "metadata": {},
   "source": [
    "## Laço\n",
    "\n",
    " - Uma aresta é chamada de laço quando ser vértice de partida é o mesmo vértice de chegada, **A ( v , v )** .<br /><br />\n",
    "Na imagem a seguir é mostrado um exemplo de laço no vértice 1.\n",
    "\n",
    "<img src=\"img/laco.png\" width=\"300\"/>\n"
   ]
  },
  {
   "cell_type": "markdown",
   "metadata": {},
   "source": [
    "## Caminho\n",
    "\n",
    "- **Caminho** é uma sequência de vértices de modo que existe sempre uma aresta ligando o vértice anterior com o seguinte.<br /><br />\n",
    " - Caminho **simples**: nenhum dos vértices do caminho se repete.\n",
    " - **Comprimento** do caminho: é o número de arestas passadas pelo caminho.\n",
    " \n",
    "<img src=\"img/path.png\" width=\"300\"/>\n",
    "\n"
   ]
  },
  {
   "cell_type": "markdown",
   "metadata": {},
   "source": [
    "## Conexão\n",
    "\n",
    "- Um grafo **não direcional** é conectado (conexo) quando existir um caminho entre qualquer par de vértices. \n",
    "\n",
    "<img src=\"img/conex1.png\" width=\"400\"/>\n",
    "<img src=\"img/conex2.png\" width=\"400\"/>"
   ]
  },
  {
   "cell_type": "markdown",
   "metadata": {},
   "source": [
    "## Ciclo\n",
    "\n",
    "- Um **ciclo** é um caminho que começa e termina no mesmo vértice;\n",
    "- Um laço é um cliclo de comprimento 1;\n",
    "\n",
    "#### Ciclo simples\n",
    "\n",
    "- Um ciclo é **simples** se não tem vértices repetidos exceto pelo último (que coincide com o primeiro).\n",
    "\n",
    "<img src=\"img/graph2.png\" width=\"300\"/>\n",
    "\n",
    "#### Ciclos da figura\n",
    "\n",
    "- 5-7-5 ( comprimento 2 (válido somente para grafos **direcionais**) e simples )\n",
    "- 4-7-5-4 ( comprimento 3 e simples )\n",
    "- 6-2-7-3-6 ( comprimento 4 e simples )\n",
    "- 5-4-7-3-6-2-7-5 ( comprimento 7 e **não** simples )\n"
   ]
  },
  {
   "cell_type": "markdown",
   "metadata": {},
   "source": [
    "## Comprimento ou distância\n",
    "\n",
    "- O comprimento (ou distância) entre 2 vértices, é a quantidade de arestas atravessadas pelo caminho **mais curto** até o nó de destino.\n",
    "\n",
    "<img src=\"img/distance.png\" width=\"300\"/>\n"
   ]
  },
  {
   "cell_type": "markdown",
   "metadata": {},
   "source": [
    "## Árvore\n",
    "\n",
    "- Um grafo **não direcional** é uma árvore se:<br /><br />\n",
    "  - Não conter um ciclo;\n",
    "  - É conexo (conectado);\n",
    "  - A quantidade de arestas for igual ao número de vértices - 1;\n",
    "\n",
    "<img src=\"img/tree.png\" width=\"500\"/>\n",
    "\n",
    "### Raíz de uma árvore\n",
    "\n",
    "- Não á uma raiz pré-definida neste caso. Basta você escolher o vértice que será o nó raiz e organizar a árvore de acordo com sua escolha e de maneira hierarquica.\n",
    "\n",
    "No exemplo abaixo, foi escolhido o vértice **1** como raiz.\n",
    "\n",
    "<img src=\"img/root.png\" width=\"700\"/>\n"
   ]
  },
  {
   "cell_type": "markdown",
   "metadata": {},
   "source": [
    "## Travessia\n",
    "\n",
    "#### Reflexão:\n",
    "\n",
    "- Dado dois vértices v e u, há uma conexão entre eles?\n",
    "- Dado dois vértices v e u, qual o grau do caminho mais curto entre eles?\n",
    "\n",
    "### Busca em largura (BFS)\n",
    "\n",
    "- A raiz da árvore é o ponto de partida da busca em lagura\n",
    "- O vértice u é um parente de v se v é o primeiro visitado quando for feita a busca em largura em u.\n",
    "\n",
    "Observation For the same graph there can be different BFS trees.\n",
    "The BFS tree topology depends on the start point of the BFS and the\n",
    "rule employed to break ties (how the data structure is traversed)\n",
    "\n"
   ]
  }
 ],
 "metadata": {
  "kernelspec": {
   "display_name": "Python 3",
   "language": "python",
   "name": "python3"
  },
  "language_info": {
   "codemirror_mode": {
    "name": "ipython",
    "version": 3
   },
   "file_extension": ".py",
   "mimetype": "text/x-python",
   "name": "python",
   "nbconvert_exporter": "python",
   "pygments_lexer": "ipython3",
   "version": "3.7.3"
  }
 },
 "nbformat": 4,
 "nbformat_minor": 2
}
